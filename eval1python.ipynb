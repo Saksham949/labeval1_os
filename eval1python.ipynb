{
 "cells": [
  {
   "cell_type": "code",
   "execution_count": 9,
   "metadata": {},
   "outputs": [
    {
     "name": "stdout",
     "output_type": "stream",
     "text": [
      "enter 1 for add ,2 for update,3 for search,4 for report4\n",
      "enter genretactics\n",
      "['art of war', 'suntzu', 'tactics', True]\n",
      "['naval warfare', 'dont know the name', 'tactics', True]\n"
     ]
    }
   ],
   "source": [
    "def addbook(title,author,ISBN,genre,availability_status):\n",
    "    library[ISBN]=[title,author,genre,availability_status]\n",
    "    print(\"book added\")\n",
    "    return\n",
    "\n",
    "def search_by_isbn(ISBN,library):\n",
    "    for key in library:\n",
    "        if(ISBN==key):\n",
    "            print(library[ISBN])\n",
    "            return\n",
    "    print(\"doesnt exist\")    \n",
    "\n",
    "def update_book_details(ISBN,library,data,choice):\n",
    "    library[ISBN][choice]=data\n",
    "    print(library[ISBN])\n",
    "    return\n",
    "\n",
    "def generate_genre_report(library,gen):\n",
    "    for key in library:\n",
    "        if(library[key][2]==gen and library[key][3]):\n",
    "            print(library[key])\n",
    "            \n",
    "\n",
    "library={1:[\"art of war\",\"suntzu\",\"tactics\",True],2:[\"rich dad poor dad\",\"robert kugisaki\",\"self improvement\",True],3:[\"naval warfare\",\"dont know the name\",\"tactics\",True]}\n",
    "check=int(input(\"enter 1 for add ,2 for update,3 for search,4 for report\"))\n",
    "if(check==1):\n",
    "    title=input(\"enter title\")\n",
    "    author=input(\"enter author\")\n",
    "    ISBN=int(input(\"enter isbn number\"))\n",
    "    genre=input(\"enter genre\")\n",
    "    addbook(title,author,ISBN,genre,True)\n",
    "    print(library)\n",
    "elif(check==2):\n",
    "    choice=int(input(\"enter 0 to update title,1 for author,2 for genre,3 for availability_status\"))\n",
    "    isbn=int(input(\"enter isbn of book to be updated\"))\n",
    "    newdata=input(\"enter new value\")\n",
    "    update_book_details(isbn,library,newdata,choice)\n",
    "elif(check==3):\n",
    "    ISBN=int(input(\"enter isbn\"))\n",
    "    search_by_isbn(ISBN,library)\n",
    "else:\n",
    "    gen=str(input(\"enter genre\"))\n",
    "    generate_genre_report(library,gen)\n",
    "    \n",
    "        \n"
   ]
  },
  {
   "cell_type": "code",
   "execution_count": null,
   "metadata": {},
   "outputs": [],
   "source": []
  },
  {
   "cell_type": "code",
   "execution_count": null,
   "metadata": {},
   "outputs": [],
   "source": []
  }
 ],
 "metadata": {
  "kernelspec": {
   "display_name": "Python 3",
   "language": "python",
   "name": "python3"
  },
  "language_info": {
   "codemirror_mode": {
    "name": "ipython",
    "version": 3
   },
   "file_extension": ".py",
   "mimetype": "text/x-python",
   "name": "python",
   "nbconvert_exporter": "python",
   "pygments_lexer": "ipython3",
   "version": "3.7.3"
  }
 },
 "nbformat": 4,
 "nbformat_minor": 2
}
